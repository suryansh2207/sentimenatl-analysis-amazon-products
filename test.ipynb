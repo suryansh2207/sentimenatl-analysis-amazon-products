{
 "cells": [
  {
   "cell_type": "code",
   "execution_count": 1,
   "id": "69c25c74",
   "metadata": {
    "_cell_guid": "b1076dfc-b9ad-4769-8c92-a6c4dae69d19",
    "_uuid": "8f2839f25d086af736a60e9eeb907d3b93b6e0e5",
    "execution": {
     "iopub.execute_input": "2024-06-13T18:17:32.907395Z",
     "iopub.status.busy": "2024-06-13T18:17:32.906992Z",
     "iopub.status.idle": "2024-06-13T18:17:33.681503Z",
     "shell.execute_reply": "2024-06-13T18:17:33.680349Z"
    },
    "jupyter": {
     "source_hidden": true
    },
    "papermill": {
     "duration": 0.782222,
     "end_time": "2024-06-13T18:17:33.684188",
     "exception": false,
     "start_time": "2024-06-13T18:17:32.901966",
     "status": "completed"
    },
    "tags": []
   },
   "outputs": [
    {
     "name": "stdout",
     "output_type": "stream",
     "text": [
      "/kaggle/input/amazon-reviews/amazon_review_polarity_csv.tgz\n",
      "/kaggle/input/amazon-reviews/train.csv\n",
      "/kaggle/input/amazon-reviews/test.csv\n"
     ]
    }
   ],
   "source": [
    "# This Python 3 environment comes with many helpful analytics libraries installed\n",
    "# It is defined by the kaggle/python Docker image: https://github.com/kaggle/docker-python\n",
    "# For example, here's several helpful packages to load\n",
    "\n",
    "import numpy as np # linear algebra\n",
    "import pandas as pd # data processing, CSV file I/O (e.g. pd.read_csv)\n",
    "\n",
    "# Input data files are available in the read-only \"../input/\" directory\n",
    "# For example, running this (by clicking run or pressing Shift+Enter) will list all files under the input directory\n",
    "\n",
    "import os\n",
    "for dirname, _, filenames in os.walk('/kaggle/input'):\n",
    "    for filename in filenames:\n",
    "        print(os.path.join(dirname, filename))\n",
    "\n",
    "# You can write up to 20GB to the current directory (/kaggle/working/) that gets preserved as output when you create a version using \"Save & Run All\" \n",
    "# You can also write temporary files to /kaggle/temp/, but they won't be saved outside of the current session"
   ]
  },
  {
   "cell_type": "code",
   "execution_count": 2,
   "id": "96794989",
   "metadata": {
    "execution": {
     "iopub.execute_input": "2024-06-13T18:17:33.694264Z",
     "iopub.status.busy": "2024-06-13T18:17:33.693245Z",
     "iopub.status.idle": "2024-06-13T18:17:35.457598Z",
     "shell.execute_reply": "2024-06-13T18:17:35.456487Z"
    },
    "papermill": {
     "duration": 1.771445,
     "end_time": "2024-06-13T18:17:35.460237",
     "exception": false,
     "start_time": "2024-06-13T18:17:33.688792",
     "status": "completed"
    },
    "tags": []
   },
   "outputs": [],
   "source": [
    "import nltk\n",
    "import pandas as pd\n",
    "import matplotlib.pyplot as plt\n",
    "from nltk.draw.dispersion import dispersion_plot"
   ]
  },
  {
   "cell_type": "code",
   "execution_count": 3,
   "id": "3aa5d319",
   "metadata": {
    "execution": {
     "iopub.execute_input": "2024-06-13T18:17:35.468900Z",
     "iopub.status.busy": "2024-06-13T18:17:35.468126Z",
     "iopub.status.idle": "2024-06-13T18:17:40.267756Z",
     "shell.execute_reply": "2024-06-13T18:17:40.265843Z"
    },
    "papermill": {
     "duration": 4.80733,
     "end_time": "2024-06-13T18:17:40.270941",
     "exception": false,
     "start_time": "2024-06-13T18:17:35.463611",
     "status": "completed"
    },
    "tags": []
   },
   "outputs": [
    {
     "data": {
      "text/html": [
       "<div>\n",
       "<style scoped>\n",
       "    .dataframe tbody tr th:only-of-type {\n",
       "        vertical-align: middle;\n",
       "    }\n",
       "\n",
       "    .dataframe tbody tr th {\n",
       "        vertical-align: top;\n",
       "    }\n",
       "\n",
       "    .dataframe thead th {\n",
       "        text-align: right;\n",
       "    }\n",
       "</style>\n",
       "<table border=\"1\" class=\"dataframe\">\n",
       "  <thead>\n",
       "    <tr style=\"text-align: right;\">\n",
       "      <th></th>\n",
       "      <th>2</th>\n",
       "    </tr>\n",
       "  </thead>\n",
       "  <tbody>\n",
       "    <tr>\n",
       "      <th>count</th>\n",
       "      <td>399999.000000</td>\n",
       "    </tr>\n",
       "    <tr>\n",
       "      <th>mean</th>\n",
       "      <td>1.499999</td>\n",
       "    </tr>\n",
       "    <tr>\n",
       "      <th>std</th>\n",
       "      <td>0.500001</td>\n",
       "    </tr>\n",
       "    <tr>\n",
       "      <th>min</th>\n",
       "      <td>1.000000</td>\n",
       "    </tr>\n",
       "    <tr>\n",
       "      <th>25%</th>\n",
       "      <td>1.000000</td>\n",
       "    </tr>\n",
       "    <tr>\n",
       "      <th>50%</th>\n",
       "      <td>1.000000</td>\n",
       "    </tr>\n",
       "    <tr>\n",
       "      <th>75%</th>\n",
       "      <td>2.000000</td>\n",
       "    </tr>\n",
       "    <tr>\n",
       "      <th>max</th>\n",
       "      <td>2.000000</td>\n",
       "    </tr>\n",
       "  </tbody>\n",
       "</table>\n",
       "</div>"
      ],
      "text/plain": [
       "                   2\n",
       "count  399999.000000\n",
       "mean        1.499999\n",
       "std         0.500001\n",
       "min         1.000000\n",
       "25%         1.000000\n",
       "50%         1.000000\n",
       "75%         2.000000\n",
       "max         2.000000"
      ]
     },
     "execution_count": 3,
     "metadata": {},
     "output_type": "execute_result"
    }
   ],
   "source": [
    "data = \"/kaggle/input/amazon-reviews/test.csv\"\n",
    "\n",
    "df = pd.read_csv(data)\n",
    "    \n",
    "df.describe()"
   ]
  },
  {
   "cell_type": "code",
   "execution_count": 4,
   "id": "446abec2",
   "metadata": {
    "execution": {
     "iopub.execute_input": "2024-06-13T18:17:40.283220Z",
     "iopub.status.busy": "2024-06-13T18:17:40.282816Z",
     "iopub.status.idle": "2024-06-13T18:17:40.294521Z",
     "shell.execute_reply": "2024-06-13T18:17:40.293078Z"
    },
    "papermill": {
     "duration": 0.019841,
     "end_time": "2024-06-13T18:17:40.296913",
     "exception": false,
     "start_time": "2024-06-13T18:17:40.277072",
     "status": "completed"
    },
    "tags": []
   },
   "outputs": [
    {
     "data": {
      "text/html": [
       "<div>\n",
       "<style scoped>\n",
       "    .dataframe tbody tr th:only-of-type {\n",
       "        vertical-align: middle;\n",
       "    }\n",
       "\n",
       "    .dataframe tbody tr th {\n",
       "        vertical-align: top;\n",
       "    }\n",
       "\n",
       "    .dataframe thead th {\n",
       "        text-align: right;\n",
       "    }\n",
       "</style>\n",
       "<table border=\"1\" class=\"dataframe\">\n",
       "  <thead>\n",
       "    <tr style=\"text-align: right;\">\n",
       "      <th></th>\n",
       "      <th>2</th>\n",
       "      <th>Great CD</th>\n",
       "      <th>My lovely Pat has one of the GREAT voices of her generation. I have listened to this CD for YEARS and I still LOVE IT. When I'm in a good mood it makes me feel better. A bad mood just evaporates like sugar in the rain. This CD just oozes LIFE. Vocals are jusat STUUNNING and lyrics just kill. One of life's hidden gems. This is a desert isle CD in my book. Why she never made it big is just beyond me. Everytime I play this, no matter black, white, young, old, male, female EVERYBODY says one thing \"Who was that singing ?\"</th>\n",
       "    </tr>\n",
       "  </thead>\n",
       "  <tbody>\n",
       "    <tr>\n",
       "      <th>0</th>\n",
       "      <td>2</td>\n",
       "      <td>One of the best game music soundtracks - for a...</td>\n",
       "      <td>Despite the fact that I have only played a sma...</td>\n",
       "    </tr>\n",
       "    <tr>\n",
       "      <th>1</th>\n",
       "      <td>1</td>\n",
       "      <td>Batteries died within a year ...</td>\n",
       "      <td>I bought this charger in Jul 2003 and it worke...</td>\n",
       "    </tr>\n",
       "    <tr>\n",
       "      <th>2</th>\n",
       "      <td>2</td>\n",
       "      <td>works fine, but Maha Energy is better</td>\n",
       "      <td>Check out Maha Energy's website. Their Powerex...</td>\n",
       "    </tr>\n",
       "    <tr>\n",
       "      <th>3</th>\n",
       "      <td>2</td>\n",
       "      <td>Great for the non-audiophile</td>\n",
       "      <td>Reviewed quite a bit of the combo players and ...</td>\n",
       "    </tr>\n",
       "    <tr>\n",
       "      <th>4</th>\n",
       "      <td>1</td>\n",
       "      <td>DVD Player crapped out after one year</td>\n",
       "      <td>I also began having the incorrect disc problem...</td>\n",
       "    </tr>\n",
       "  </tbody>\n",
       "</table>\n",
       "</div>"
      ],
      "text/plain": [
       "   2                                           Great CD  \\\n",
       "0  2  One of the best game music soundtracks - for a...   \n",
       "1  1                   Batteries died within a year ...   \n",
       "2  2              works fine, but Maha Energy is better   \n",
       "3  2                       Great for the non-audiophile   \n",
       "4  1              DVD Player crapped out after one year   \n",
       "\n",
       "  My lovely Pat has one of the GREAT voices of her generation. I have listened to this CD for YEARS and I still LOVE IT. When I'm in a good mood it makes me feel better. A bad mood just evaporates like sugar in the rain. This CD just oozes LIFE. Vocals are jusat STUUNNING and lyrics just kill. One of life's hidden gems. This is a desert isle CD in my book. Why she never made it big is just beyond me. Everytime I play this, no matter black, white, young, old, male, female EVERYBODY says one thing \"Who was that singing ?\"  \n",
       "0  Despite the fact that I have only played a sma...                                                                                                                                                                                                                                                                                                                                                                                                                                                                                           \n",
       "1  I bought this charger in Jul 2003 and it worke...                                                                                                                                                                                                                                                                                                                                                                                                                                                                                           \n",
       "2  Check out Maha Energy's website. Their Powerex...                                                                                                                                                                                                                                                                                                                                                                                                                                                                                           \n",
       "3  Reviewed quite a bit of the combo players and ...                                                                                                                                                                                                                                                                                                                                                                                                                                                                                           \n",
       "4  I also began having the incorrect disc problem...                                                                                                                                                                                                                                                                                                                                                                                                                                                                                           "
      ]
     },
     "execution_count": 4,
     "metadata": {},
     "output_type": "execute_result"
    }
   ],
   "source": [
    "df.head()"
   ]
  },
  {
   "cell_type": "code",
   "execution_count": 5,
   "id": "c1b0e849",
   "metadata": {
    "execution": {
     "iopub.execute_input": "2024-06-13T18:17:40.306783Z",
     "iopub.status.busy": "2024-06-13T18:17:40.306378Z",
     "iopub.status.idle": "2024-06-13T18:17:40.312340Z",
     "shell.execute_reply": "2024-06-13T18:17:40.311111Z"
    },
    "papermill": {
     "duration": 0.014782,
     "end_time": "2024-06-13T18:17:40.315558",
     "exception": false,
     "start_time": "2024-06-13T18:17:40.300776",
     "status": "completed"
    },
    "tags": []
   },
   "outputs": [
    {
     "name": "stdout",
     "output_type": "stream",
     "text": [
      "DVD Player crapped out after one year\n"
     ]
    }
   ],
   "source": [
    "title = df['Great CD']\n",
    "print(title[4])"
   ]
  },
  {
   "cell_type": "code",
   "execution_count": 6,
   "id": "0ec59b65",
   "metadata": {
    "execution": {
     "iopub.execute_input": "2024-06-13T18:17:40.324868Z",
     "iopub.status.busy": "2024-06-13T18:17:40.324470Z",
     "iopub.status.idle": "2024-06-13T18:17:40.330164Z",
     "shell.execute_reply": "2024-06-13T18:17:40.329085Z"
    },
    "papermill": {
     "duration": 0.01336,
     "end_time": "2024-06-13T18:17:40.332823",
     "exception": false,
     "start_time": "2024-06-13T18:17:40.319463",
     "status": "completed"
    },
    "tags": []
   },
   "outputs": [
    {
     "name": "stdout",
     "output_type": "stream",
     "text": [
      "I also began having the incorrect disc problems that I've read about on here. The VCR still works, but hte DVD side is useless. I understand that DVD players sometimes just quit on you, but after not even one year? To me that's a sign on bad quality. I'm giving up JVC after this as well. I'm sticking to Sony or giving another brand a shot.\n"
     ]
    }
   ],
   "source": [
    "description = df['My lovely Pat has one of the GREAT voices of her generation. I have listened to this CD for YEARS and I still LOVE IT. When I\\'m in a good mood it makes me feel better. A bad mood just evaporates like sugar in the rain. This CD just oozes LIFE. Vocals are jusat STUUNNING and lyrics just kill. One of life\\'s hidden gems. This is a desert isle CD in my book. Why she never made it big is just beyond me. Everytime I play this, no matter black, white, young, old, male, female EVERYBODY says one thing \"Who was that singing ?\"']\n",
    "print(description[4])"
   ]
  },
  {
   "cell_type": "code",
   "execution_count": 7,
   "id": "8b33a650",
   "metadata": {
    "execution": {
     "iopub.execute_input": "2024-06-13T18:17:40.342311Z",
     "iopub.status.busy": "2024-06-13T18:17:40.341889Z",
     "iopub.status.idle": "2024-06-13T18:17:40.642212Z",
     "shell.execute_reply": "2024-06-13T18:17:40.641074Z"
    },
    "papermill": {
     "duration": 0.307791,
     "end_time": "2024-06-13T18:17:40.644463",
     "exception": false,
     "start_time": "2024-06-13T18:17:40.336672",
     "status": "completed"
    },
    "tags": []
   },
   "outputs": [
    {
     "name": "stdout",
     "output_type": "stream",
     "text": [
      "[0.6666666666666666, 0.3333333333333333, 0.5714285714285714, 0.5, 0.7142857142857143, 0.0, 0.75, 0.6666666666666666, 0.25, 0.6, 0.0, 0.0, 0.25, 0.7142857142857143, 0.0, 0.2857142857142857, 0.16666666666666666, 0.2, 0.38461538461538464, 0.3333333333333333, 0.6666666666666666, 0.7, 0.3333333333333333, 0.4, 0.3333333333333333, 0.5, 0.0, 0.3333333333333333, 0.2857142857142857, 0.8571428571428571, 0.5, 0.4, 0.9166666666666666, 0.125, 0.3333333333333333, 0.0, 0.14285714285714285, 0.3333333333333333, 0.4, 0.5, 0.0, 0.8, 0.42857142857142855, 0.0, 0.75, 0.16666666666666666, 0.3333333333333333, 0.3333333333333333, 0.625, 0.5]\n"
     ]
    },
    {
     "data": {
      "text/plain": [
       "Text(0.5, 1.0, 'histogram of proportion of words in the title that are also in the description')"
      ]
     },
     "execution_count": 7,
     "metadata": {},
     "output_type": "execute_result"
    },
    {
     "data": {
      "image/png": "[encoded data removed]",
      "text/plain": [
       "<Figure size 640x480 with 1 Axes>"
      ]
     },
     "metadata": {},
     "output_type": "display_data"
    }
   ],
   "source": [
    "lista = []\n",
    "for i in range(50):\n",
    "    count = 0\n",
    "    wordlist = title[i].split()\n",
    "    for j in range(len(wordlist)):\n",
    "        if wordlist[j] in description[i]:\n",
    "            #print(wordlist[j])\n",
    "            count+=1\n",
    "    lista.append(count/len(wordlist))\n",
    "print(lista)\n",
    "plt.hist(lista)\n",
    "plt.xlabel(\"proportion of words in the title that are also in the description\")\n",
    "plt.ylabel(\"count\")\n",
    "plt.title(\"histogram of proportion of words in the title that are also in the description\")"
   ]
  },
  {
   "cell_type": "code",
   "execution_count": 8,
   "id": "da100e51",
   "metadata": {
    "execution": {
     "iopub.execute_input": "2024-06-13T18:17:40.654968Z",
     "iopub.status.busy": "2024-06-13T18:17:40.654603Z",
     "iopub.status.idle": "2024-06-13T18:17:41.219165Z",
     "shell.execute_reply": "2024-06-13T18:17:41.218118Z"
    },
    "papermill": {
     "duration": 0.572657,
     "end_time": "2024-06-13T18:17:41.221542",
     "exception": false,
     "start_time": "2024-06-13T18:17:40.648885",
     "status": "completed"
    },
    "tags": []
   },
   "outputs": [
    {
     "name": "stderr",
     "output_type": "stream",
     "text": [
      "/opt/conda/lib/python3.10/site-packages/nltk/twitter/__init__.py:20: UserWarning: The twython library has not been installed. Some functionality from the twitter package will not be available.\n",
      "  warnings.warn(\"The twython library has not been installed. \"\n"
     ]
    },
    {
     "name": "stdout",
     "output_type": "stream",
     "text": [
      "[93.71000000000001, 86.68, 0.0, 75.19, -35.06, -6.38, 56.14, 29.599999999999998, 96.33, 64.86, 64.86, 18.64, 97.04, -44.97, -11.07, 96.46000000000001, 92.35, 0.0, 93.71000000000001, -38.04, -22.919999999999998, 72.64, 85.88, 85.16, 47.67, 51.370000000000005, 41.730000000000004, 29.599999999999998, 54.50000000000001, 92.60000000000001, -7.720000000000001, 98.83999999999999, 93.14, 73.50999999999999, 11.34, 82.21000000000001, -32.22, 99.53999999999999, 97.87, -88.42, 0.0, 83.95, 97.66, 37.940000000000005, 86.86, -80.97, -97.48, -61.970000000000006, 81.47999999999999, -45.5, -77.08, 88.22, -92.86, 62.49, 12.85, 83.77, 90.2, 84.42, 25.0, 43.74, -50.94, 98.0, 84.42, 15.299999999999999, -89.34, 93.22, 77.63, 87.22999999999999, 93.65, 79.12, 72.45, -86.09, 55.19, 22.720000000000002, -87.28, -62.580000000000005, -18.16, -84.72, -7.720000000000001, 85.91, 5.16, 76.78, -45.45, -98.45, -22.99, 79.91, -80.5, 52.42, 95.59, 57.89, -42.15, -45.550000000000004, 51.82, -17.79, 71.84, 80.11, -85.19, -74.81, 36.120000000000005, 47.03, 71.84, -38.0, 50.580000000000005, 91.8, -87.51, 82.19, 61.24000000000001, 93.17999999999999, 49.36, 98.71, 94.0, 80.81, 92.25, -25.419999999999998, 87.44, 75.06, -47.24, 22.63, -17.96, 93.62, 78.4, -51.43, 94.08, 81.22, 96.38, 86.89, 79.02, 99.67, 85.53, -39.47, -91.03999999999999, 87.25, 87.38, 63.1, 2.35, 89.77000000000001, -25.0, 5.16, 89.75, -70.96000000000001, -65.9, 53.010000000000005, 89.3, 49.39, -47.24, -1.68, 50.93, -59.940000000000005, 15.32, 94.77, -53.769999999999996, 16.35, 92.24, 47.67, 94.46, -27.55, 86.89, 86.68, 95.22, 96.21, 14.06, 95.95, 99.14, 94.43, 26.169999999999998, 64.67, 96.69, -98.38, -85.33, 99.18, 85.91, 55.63, 90.57, -27.400000000000002, 3.56, 87.5, 48.4, 96.07, 93.0, -58.160000000000004, -38.080000000000005, 22.470000000000002, 99.29, -77.08, 91.0, 79.64, 86.17, 66.41, 97.49, 61.24000000000001, 55.74, 39.54, 93.67999999999999, 75.07000000000001, 91.46, -47.53, 39.76, 29.42, 87.2, 0.0]\n"
     ]
    },
    {
     "data": {
      "text/plain": [
       "Text(0.5, 1.0, 'histogram of sentiment values of descriptions')"
      ]
     },
     "execution_count": 8,
     "metadata": {},
     "output_type": "execute_result"
    },
    {
     "data": {
      "image/png": "[encoded data removed]",
      "text/plain": [
       "<Figure size 640x480 with 1 Axes>"
      ]
     },
     "metadata": {},
     "output_type": "display_data"
    }
   ],
   "source": [
    "from nltk.sentiment import SentimentIntensityAnalyzer\n",
    "sia = SentimentIntensityAnalyzer()\n",
    "\n",
    "listt = []\n",
    "for i in range(200):\n",
    "    sentiment_dict = sia.polarity_scores(description[i])\n",
    "    #print(\"Overall sentiment dictionary is : \", sentiment_dict)\n",
    "    #print(\"sentence was rated as \", sentiment_dict['neg']*100, \"% Negative\")\n",
    "    #print(\"sentence was rated as \", sentiment_dict['neu']*100, \"% Neutral\")\n",
    "    #print(\"sentence was rated as \", sentiment_dict['pos']*100, \"% Positive\")\n",
    "    #print(\"sentence was rated as \", sentiment_dict['compound'], \"as an overall compound score\")\n",
    "    listt.append(sentiment_dict['compound']*100)\n",
    "print(listt)\n",
    "    # The negative, neutral, and positive scores are related: They all add up to 1 and can’t be negative. \n",
    "    #The compound score is calculated differently. It’s not just an average, and it can range from -1 to 1.\n",
    "plt.hist(listt)\n",
    "plt.xlabel(\"sentiment values of descriptions\")\n",
    "plt.ylabel(\"count\")\n",
    "plt.title(\"histogram of sentiment values of descriptions\")"
   ]
  },
  {
   "cell_type": "code",
   "execution_count": 9,
   "id": "825a9230",
   "metadata": {
    "execution": {
     "iopub.execute_input": "2024-06-13T18:17:41.234386Z",
     "iopub.status.busy": "2024-06-13T18:17:41.233604Z",
     "iopub.status.idle": "2024-06-13T18:17:41.444193Z",
     "shell.execute_reply": "2024-06-13T18:17:41.443160Z"
    },
    "papermill": {
     "duration": 0.219466,
     "end_time": "2024-06-13T18:17:41.446455",
     "exception": false,
     "start_time": "2024-06-13T18:17:41.226989",
     "status": "completed"
    },
    "tags": []
   },
   "outputs": [
    {
     "data": {
      "image/png": "[encoded data removed]",
      "text/plain": [
       "<Figure size 640x480 with 1 Axes>"
      ]
     },
     "metadata": {},
     "output_type": "display_data"
    }
   ],
   "source": [
    "from nltk.draw.dispersion import dispersion_plot\n",
    "import matplotlib.pyplot as plt\n",
    "\n",
    "from nltk.text import Text\n",
    "wordlist = Text(description[0].split(\" \"))\n",
    "\n",
    "targets=['great','good','bad','awful','game']\n",
    "plt.xlim(0, len(wordlist))\n",
    "plt.yticks([0,1,2,3,4], reversed(targets), color=\"C0\") #make the labels correct\n",
    "dispersion_plot(wordlist, targets, ignore_case=True, title='Lexical Dispersion Plot')"
   ]
  }
 ],
 "metadata": {
  "kaggle": {
   "accelerator": "none",
   "dataSources": [
    {
     "datasetId": 1340369,
     "sourceId": 2233682,
     "sourceType": "datasetVersion"
    }
   ],
   "dockerImageVersionId": 30732,
   "isGpuEnabled": false,
   "isInternetEnabled": false,
   "language": "python",
   "sourceType": "notebook"
  },
  "kernelspec": {
   "display_name": "Python 3",
   "language": "python",
   "name": "python3"
  },
  "language_info": {
   "codemirror_mode": {
    "name": "ipython",
    "version": 3
   },
   "file_extension": ".py",
   "mimetype": "text/x-python",
   "name": "python",
   "nbconvert_exporter": "python",
   "pygments_lexer": "ipython3",
   "version": "3.10.13"
  },
  "papermill": {
   "default_parameters": {},
   "duration": 11.899412,
   "end_time": "2024-06-13T18:17:42.173293",
   "environment_variables": {},
   "exception": null,
   "input_path": "__notebook__.ipynb",
   "output_path": "__notebook__.ipynb",
   "parameters": {},
   "start_time": "2024-06-13T18:17:30.273881",
   "version": "2.5.0"
  }
 },
 "nbformat": 4,
 "nbformat_minor": 5
}
