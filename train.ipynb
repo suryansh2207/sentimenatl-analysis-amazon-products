{
 "cells": [
  {
   "cell_type": "code",
   "execution_count": 1,
   "id": "35884af8",
   "metadata": {
    "_cell_guid": "b1076dfc-b9ad-4769-8c92-a6c4dae69d19",
    "_uuid": "8f2839f25d086af736a60e9eeb907d3b93b6e0e5",
    "execution": {
     "iopub.execute_input": "2024-06-13T18:12:45.637158Z",
     "iopub.status.busy": "2024-06-13T18:12:45.636703Z",
     "iopub.status.idle": "2024-06-13T18:12:46.521954Z",
     "shell.execute_reply": "2024-06-13T18:12:46.520484Z"
    },
    "jupyter": {
     "source_hidden": true
    },
    "papermill": {
     "duration": 0.893333,
     "end_time": "2024-06-13T18:12:46.524581",
     "exception": false,
     "start_time": "2024-06-13T18:12:45.631248",
     "status": "completed"
    },
    "tags": []
   },
   "outputs": [
    {
     "name": "stdout",
     "output_type": "stream",
     "text": [
      "/kaggle/input/amazon-reviews/amazon_review_polarity_csv.tgz\n",
      "/kaggle/input/amazon-reviews/train.csv\n",
      "/kaggle/input/amazon-reviews/test.csv\n"
     ]
    }
   ],
   "source": [
    "# This Python 3 environment comes with many helpful analytics libraries installed\n",
    "# It is defined by the kaggle/python Docker image: https://github.com/kaggle/docker-python\n",
    "# For example, here's several helpful packages to load\n",
    "\n",
    "import numpy as np # linear algebra\n",
    "import pandas as pd # data processing, CSV file I/O (e.g. pd.read_csv)\n",
    "\n",
    "# Input data files are available in the read-only \"../input/\" directory\n",
    "# For example, running this (by clicking run or pressing Shift+Enter) will list all files under the input directory\n",
    "\n",
    "import os\n",
    "for dirname, _, filenames in os.walk('/kaggle/input'):\n",
    "    for filename in filenames:\n",
    "        print(os.path.join(dirname, filename))\n",
    "\n",
    "# You can write up to 20GB to the current directory (/kaggle/working/) that gets preserved as output when you create a version using \"Save & Run All\" \n",
    "# You can also write temporary files to /kaggle/temp/, but they won't be saved outside of the current session"
   ]
  },
  {
   "cell_type": "code",
   "execution_count": 2,
   "id": "1747933f",
   "metadata": {
    "execution": {
     "iopub.execute_input": "2024-06-13T18:12:46.533171Z",
     "iopub.status.busy": "2024-06-13T18:12:46.532721Z",
     "iopub.status.idle": "2024-06-13T18:12:48.508061Z",
     "shell.execute_reply": "2024-06-13T18:12:48.506504Z"
    },
    "papermill": {
     "duration": 1.983429,
     "end_time": "2024-06-13T18:12:48.511553",
     "exception": false,
     "start_time": "2024-06-13T18:12:46.528124",
     "status": "completed"
    },
    "tags": []
   },
   "outputs": [],
   "source": [
    "import nltk\n",
    "import pandas as pd\n",
    "import matplotlib.pyplot as plt\n",
    "from nltk.draw.dispersion import dispersion_plot"
   ]
  },
  {
   "cell_type": "code",
   "execution_count": 3,
   "id": "4ff9e222",
   "metadata": {
    "execution": {
     "iopub.execute_input": "2024-06-13T18:12:48.521047Z",
     "iopub.status.busy": "2024-06-13T18:12:48.520592Z",
     "iopub.status.idle": "2024-06-13T18:13:26.419240Z",
     "shell.execute_reply": "2024-06-13T18:13:26.418167Z"
    },
    "papermill": {
     "duration": 37.90942,
     "end_time": "2024-06-13T18:13:26.424795",
     "exception": false,
     "start_time": "2024-06-13T18:12:48.515375",
     "status": "completed"
    },
    "tags": []
   },
   "outputs": [
    {
     "data": {
      "text/html": [
       "<div>\n",
       "<style scoped>\n",
       "    .dataframe tbody tr th:only-of-type {\n",
       "        vertical-align: middle;\n",
       "    }\n",
       "\n",
       "    .dataframe tbody tr th {\n",
       "        vertical-align: top;\n",
       "    }\n",
       "\n",
       "    .dataframe thead th {\n",
       "        text-align: right;\n",
       "    }\n",
       "</style>\n",
       "<table border=\"1\" class=\"dataframe\">\n",
       "  <thead>\n",
       "    <tr style=\"text-align: right;\">\n",
       "      <th></th>\n",
       "      <th>2</th>\n",
       "    </tr>\n",
       "  </thead>\n",
       "  <tbody>\n",
       "    <tr>\n",
       "      <th>count</th>\n",
       "      <td>3599999.0</td>\n",
       "    </tr>\n",
       "    <tr>\n",
       "      <th>mean</th>\n",
       "      <td>1.5</td>\n",
       "    </tr>\n",
       "    <tr>\n",
       "      <th>std</th>\n",
       "      <td>0.5</td>\n",
       "    </tr>\n",
       "    <tr>\n",
       "      <th>min</th>\n",
       "      <td>1.0</td>\n",
       "    </tr>\n",
       "    <tr>\n",
       "      <th>25%</th>\n",
       "      <td>1.0</td>\n",
       "    </tr>\n",
       "    <tr>\n",
       "      <th>50%</th>\n",
       "      <td>1.0</td>\n",
       "    </tr>\n",
       "    <tr>\n",
       "      <th>75%</th>\n",
       "      <td>2.0</td>\n",
       "    </tr>\n",
       "    <tr>\n",
       "      <th>max</th>\n",
       "      <td>2.0</td>\n",
       "    </tr>\n",
       "  </tbody>\n",
       "</table>\n",
       "</div>"
      ],
      "text/plain": [
       "               2\n",
       "count  3599999.0\n",
       "mean         1.5\n",
       "std          0.5\n",
       "min          1.0\n",
       "25%          1.0\n",
       "50%          1.0\n",
       "75%          2.0\n",
       "max          2.0"
      ]
     },
     "execution_count": 3,
     "metadata": {},
     "output_type": "execute_result"
    }
   ],
   "source": [
    "data = \"/kaggle/input/amazon-reviews/train.csv\"\n",
    "\n",
    "df = pd.read_csv(data)\n",
    "    \n",
    "df.describe()"
   ]
  },
  {
   "cell_type": "code",
   "execution_count": 4,
   "id": "df3985a5",
   "metadata": {
    "execution": {
     "iopub.execute_input": "2024-06-13T18:13:26.433609Z",
     "iopub.status.busy": "2024-06-13T18:13:26.433214Z",
     "iopub.status.idle": "2024-06-13T18:13:26.444218Z",
     "shell.execute_reply": "2024-06-13T18:13:26.442986Z"
    },
    "papermill": {
     "duration": 0.017961,
     "end_time": "2024-06-13T18:13:26.446347",
     "exception": false,
     "start_time": "2024-06-13T18:13:26.428386",
     "status": "completed"
    },
    "tags": []
   },
   "outputs": [
    {
     "data": {
      "text/html": [
       "<div>\n",
       "<style scoped>\n",
       "    .dataframe tbody tr th:only-of-type {\n",
       "        vertical-align: middle;\n",
       "    }\n",
       "\n",
       "    .dataframe tbody tr th {\n",
       "        vertical-align: top;\n",
       "    }\n",
       "\n",
       "    .dataframe thead th {\n",
       "        text-align: right;\n",
       "    }\n",
       "</style>\n",
       "<table border=\"1\" class=\"dataframe\">\n",
       "  <thead>\n",
       "    <tr style=\"text-align: right;\">\n",
       "      <th></th>\n",
       "      <th>2</th>\n",
       "      <th>Stuning even for the non-gamer</th>\n",
       "      <th>This sound track was beautiful! It paints the senery in your mind so well I would recomend it even to people who hate vid. game music! I have played the game Chrono Cross but out of all of the games I have ever played it has the best music! It backs away from crude keyboarding and takes a fresher step with grate guitars and soulful orchestras. It would impress anyone who cares to listen! ^_^</th>\n",
       "    </tr>\n",
       "  </thead>\n",
       "  <tbody>\n",
       "    <tr>\n",
       "      <th>0</th>\n",
       "      <td>2</td>\n",
       "      <td>The best soundtrack ever to anything.</td>\n",
       "      <td>I'm reading a lot of reviews saying that this ...</td>\n",
       "    </tr>\n",
       "    <tr>\n",
       "      <th>1</th>\n",
       "      <td>2</td>\n",
       "      <td>Amazing!</td>\n",
       "      <td>This soundtrack is my favorite music of all ti...</td>\n",
       "    </tr>\n",
       "    <tr>\n",
       "      <th>2</th>\n",
       "      <td>2</td>\n",
       "      <td>Excellent Soundtrack</td>\n",
       "      <td>I truly like this soundtrack and I enjoy video...</td>\n",
       "    </tr>\n",
       "    <tr>\n",
       "      <th>3</th>\n",
       "      <td>2</td>\n",
       "      <td>Remember, Pull Your Jaw Off The Floor After He...</td>\n",
       "      <td>If you've played the game, you know how divine...</td>\n",
       "    </tr>\n",
       "    <tr>\n",
       "      <th>4</th>\n",
       "      <td>2</td>\n",
       "      <td>an absolute masterpiece</td>\n",
       "      <td>I am quite sure any of you actually taking the...</td>\n",
       "    </tr>\n",
       "  </tbody>\n",
       "</table>\n",
       "</div>"
      ],
      "text/plain": [
       "   2                     Stuning even for the non-gamer  \\\n",
       "0  2              The best soundtrack ever to anything.   \n",
       "1  2                                           Amazing!   \n",
       "2  2                               Excellent Soundtrack   \n",
       "3  2  Remember, Pull Your Jaw Off The Floor After He...   \n",
       "4  2                            an absolute masterpiece   \n",
       "\n",
       "  This sound track was beautiful! It paints the senery in your mind so well I would recomend it even to people who hate vid. game music! I have played the game Chrono Cross but out of all of the games I have ever played it has the best music! It backs away from crude keyboarding and takes a fresher step with grate guitars and soulful orchestras. It would impress anyone who cares to listen! ^_^  \n",
       "0  I'm reading a lot of reviews saying that this ...                                                                                                                                                                                                                                                                                                                                                          \n",
       "1  This soundtrack is my favorite music of all ti...                                                                                                                                                                                                                                                                                                                                                          \n",
       "2  I truly like this soundtrack and I enjoy video...                                                                                                                                                                                                                                                                                                                                                          \n",
       "3  If you've played the game, you know how divine...                                                                                                                                                                                                                                                                                                                                                          \n",
       "4  I am quite sure any of you actually taking the...                                                                                                                                                                                                                                                                                                                                                          "
      ]
     },
     "execution_count": 4,
     "metadata": {},
     "output_type": "execute_result"
    }
   ],
   "source": [
    "df.head()"
   ]
  },
  {
   "cell_type": "code",
   "execution_count": 5,
   "id": "ce690e7d",
   "metadata": {
    "execution": {
     "iopub.execute_input": "2024-06-13T18:13:26.455236Z",
     "iopub.status.busy": "2024-06-13T18:13:26.454885Z",
     "iopub.status.idle": "2024-06-13T18:13:26.460550Z",
     "shell.execute_reply": "2024-06-13T18:13:26.459425Z"
    },
    "papermill": {
     "duration": 0.012755,
     "end_time": "2024-06-13T18:13:26.462873",
     "exception": false,
     "start_time": "2024-06-13T18:13:26.450118",
     "status": "completed"
    },
    "tags": []
   },
   "outputs": [
    {
     "name": "stdout",
     "output_type": "stream",
     "text": [
      "an absolute masterpiece\n"
     ]
    }
   ],
   "source": [
    "title = df['Stuning even for the non-gamer']\n",
    "print(title[4])"
   ]
  },
  {
   "cell_type": "code",
   "execution_count": 6,
   "id": "8dba9719",
   "metadata": {
    "execution": {
     "iopub.execute_input": "2024-06-13T18:13:26.472130Z",
     "iopub.status.busy": "2024-06-13T18:13:26.471494Z",
     "iopub.status.idle": "2024-06-13T18:13:26.476942Z",
     "shell.execute_reply": "2024-06-13T18:13:26.476008Z"
    },
    "papermill": {
     "duration": 0.012403,
     "end_time": "2024-06-13T18:13:26.479046",
     "exception": false,
     "start_time": "2024-06-13T18:13:26.466643",
     "status": "completed"
    },
    "tags": []
   },
   "outputs": [
    {
     "name": "stdout",
     "output_type": "stream",
     "text": [
      "I am quite sure any of you actually taking the time to read this have played the game at least once, and heard at least a few of the tracks here. And whether you were aware of it or not, Mitsuda's music contributed greatly to the mood of every single minute of the whole game.Composed of 3 CDs and quite a few songs (I haven't an exact count), all of which are heart-rendering and impressively remarkable, this soundtrack is one I assure you you will not forget. It has everything for every listener -- from fast-paced and energetic (Dancing the Tokage or Termina Home), to slower and more haunting (Dragon God), to purely beautifully composed (Time's Scar), to even some fantastic vocals (Radical Dreamers).This is one of the best videogame soundtracks out there, and surely Mitsuda's best ever. ^_^\n"
     ]
    }
   ],
   "source": [
    "description = df[\"This sound track was beautiful! It paints the senery in your mind so well I would recomend it even to people who hate vid. game music! I have played the game Chrono Cross but out of all of the games I have ever played it has the best music! It backs away from crude keyboarding and takes a fresher step with grate guitars and soulful orchestras. It would impress anyone who cares to listen! ^_^\"]\n",
    "print(description[4])"
   ]
  },
  {
   "cell_type": "code",
   "execution_count": 7,
   "id": "d4063d66",
   "metadata": {
    "execution": {
     "iopub.execute_input": "2024-06-13T18:13:26.488101Z",
     "iopub.status.busy": "2024-06-13T18:13:26.487753Z",
     "iopub.status.idle": "2024-06-13T18:13:26.849656Z",
     "shell.execute_reply": "2024-06-13T18:13:26.848588Z"
    },
    "papermill": {
     "duration": 0.369252,
     "end_time": "2024-06-13T18:13:26.852048",
     "exception": false,
     "start_time": "2024-06-13T18:13:26.482796",
     "status": "completed"
    },
    "tags": []
   },
   "outputs": [
    {
     "name": "stdout",
     "output_type": "stream",
     "text": [
      "[0.8333333333333334, 0.0, 0.0, 0.2, 0.3333333333333333, 0.0, 0.5, 0.0, 0.2, 0.0, 0.5, 0.0, 0.0, 0.0, 0.125, 0.4, 0.0, 0.0, 0.8888888888888888, 0.0, 0.6666666666666666, 0.0, 0.7, 0.4, 0.2, 0.4, 0.0, 0.0, 0.6153846153846154, 0.0, 0.6666666666666666, 0.2, 0.5, 0.4, 0.375, 0.16666666666666666, 0.3333333333333333, 0.8, 0.5, 0.0, 0.5, 1.0, 0.3333333333333333, 0.0, 0.5, 0.5, 0.25, 0.0, 0.0, 0.0]\n"
     ]
    },
    {
     "data": {
      "text/plain": [
       "Text(0.5, 1.0, 'histogram of proportion of words in the title that are also in the description')"
      ]
     },
     "execution_count": 7,
     "metadata": {},
     "output_type": "execute_result"
    },
    {
     "data": {
      "image/png": "[encoded data removed]",
      "text/plain": [
       "<Figure size 640x480 with 1 Axes>"
      ]
     },
     "metadata": {},
     "output_type": "display_data"
    }
   ],
   "source": [
    "lista = []\n",
    "for i in range(50):\n",
    "    count = 0\n",
    "    wordlist = title[i].split()\n",
    "    for j in range(len(wordlist)):\n",
    "        if wordlist[j] in description[i]:\n",
    "            #print(wordlist[j])\n",
    "            count+=1\n",
    "    lista.append(count/len(wordlist))\n",
    "print(lista)\n",
    "plt.hist(lista)\n",
    "plt.xlabel(\"proportion of words in the title that are also in the description\")\n",
    "plt.ylabel(\"count\")\n",
    "plt.title(\"histogram of proportion of words in the title that are also in the description\")"
   ]
  },
  {
   "cell_type": "code",
   "execution_count": 8,
   "id": "75f4c1c7",
   "metadata": {
    "execution": {
     "iopub.execute_input": "2024-06-13T18:13:26.862756Z",
     "iopub.status.busy": "2024-06-13T18:13:26.862334Z",
     "iopub.status.idle": "2024-06-13T18:13:27.419310Z",
     "shell.execute_reply": "2024-06-13T18:13:27.418121Z"
    },
    "papermill": {
     "duration": 0.565111,
     "end_time": "2024-06-13T18:13:27.421774",
     "exception": false,
     "start_time": "2024-06-13T18:13:26.856663",
     "status": "completed"
    },
    "tags": []
   },
   "outputs": [
    {
     "name": "stderr",
     "output_type": "stream",
     "text": [
      "/opt/conda/lib/python3.10/site-packages/nltk/twitter/__init__.py:20: UserWarning: The twython library has not been installed. Some functionality from the twitter package will not be available.\n",
      "  warnings.warn(\"The twython library has not been installed. \"\n"
     ]
    },
    {
     "name": "stdout",
     "output_type": "stream",
     "text": [
      "[84.81, 98.54, 97.53, 97.81, 98.72999999999999, -87.44, 98.97, 83.53, 86.7, -92.33, 92.17, 98.27, 89.64999999999999, -89.1, -42.15, 92.78, 46.86, 77.86999999999999, 49.26, 97.34, 90.75999999999999, 96.67, 97.6, 84.42, -72.27, -8.57, -29.520000000000003, 54.230000000000004, 89.22, -71.95, 82.39999999999999, -83.45, 98.78, 44.34, 92.0, 82.19, 97.05, 59.51, 34.92, 68.0, 87.52, 84.02, -32.910000000000004, 40.19, 77.17, -81.98, 90.25, -55.620000000000005, -62.260000000000005, 89.79, 78.05, -84.0, 98.46000000000001, 11.34, 17.76, 59.84, -7.31, 77.83, -54.99000000000001, 33.129999999999995, 17.24, -90.05, -36.120000000000005, 20.23, -55.74, 98.38, 97.64, 86.22, 98.52, 39.48, -93.45, 19.86, 93.97999999999999, 85.79, -28.71, 72.33000000000001, 90.42, -79.60000000000001, -7.5200000000000005, 59.27, 97.92, 81.26, 70.5, 63.690000000000005, 97.75, -64.86, 29.599999999999998, -60.28, 43.57, 90.08, 84.02, 94.99, -70.03, 93.95, 21.560000000000002, 87.5, 2.58, 82.67999999999999, 0.0, 76.5, 98.46000000000001, 92.24, -94.85, -62.49, -43.91, 96.53, 1.3, -45.300000000000004, 79.01, 97.54, 93.76, 69.97, 89.57000000000001, 80.16, -52.55, 98.32, 12.629999999999999, 76.1, 84.89999999999999, 97.43, 90.42, 31.580000000000002, -41.839999999999996, 95.89999999999999, 22.64, 62.45, 83.6, -6.4399999999999995, 93.47, 30.709999999999997, 42.01, 65.97, 54.13, 37.95, 82.13000000000001, -82.69, 93.81, -25.0, 95.39999999999999, 49.14, 94.12, 15.57, 68.08, 71.73, 33.040000000000006, 17.75, -12.8, 93.66, 89.1, 36.16, -59.18, 93.58, 67.05, -79.97, 91.67, 54.230000000000004, -81.51, 91.78, 80.2, 78.16, 95.71, 68.06, 50.949999999999996, 96.93, 96.7, 76.5, 77.13, 97.13000000000001, 81.76, 38.019999999999996, 92.01, 56.48, -17.72, 0.0, 70.03, 0.0, 54.230000000000004, 94.74000000000001, 62.49, -93.0, 31.819999999999997, 59.940000000000005, -50.3, 83.62, 90.91, 63.36000000000001, -27.48, -65.71000000000001, -45.87, -92.83, 93.92, 83.6, 73.50999999999999, 85.91, 98.05, 72.75, 27.32, 38.18, -5.16, 15.959999999999999]\n"
     ]
    },
    {
     "data": {
      "text/plain": [
       "Text(0.5, 1.0, 'histogram of sentiment values of descriptions')"
      ]
     },
     "execution_count": 8,
     "metadata": {},
     "output_type": "execute_result"
    },
    {
     "data": {
      "image/png": "[encoded data removed]",
      "text/plain": [
       "<Figure size 640x480 with 1 Axes>"
      ]
     },
     "metadata": {},
     "output_type": "display_data"
    }
   ],
   "source": [
    "from nltk.sentiment import SentimentIntensityAnalyzer\n",
    "sia = SentimentIntensityAnalyzer()\n",
    "\n",
    "listt = []\n",
    "for i in range(200):\n",
    "    sentiment_dict = sia.polarity_scores(description[i])\n",
    "    #print(\"Overall sentiment dictionary is : \", sentiment_dict)\n",
    "    #print(\"sentence was rated as \", sentiment_dict['neg']*100, \"% Negative\")\n",
    "    #print(\"sentence was rated as \", sentiment_dict['neu']*100, \"% Neutral\")\n",
    "    #print(\"sentence was rated as \", sentiment_dict['pos']*100, \"% Positive\")\n",
    "    #print(\"sentence was rated as \", sentiment_dict['compound'], \"as an overall compound score\")\n",
    "    listt.append(sentiment_dict['compound']*100)\n",
    "print(listt)\n",
    "    # The negative, neutral, and positive scores are related: They all add up to 1 and can’t be negative. \n",
    "    #The compound score is calculated differently. It’s not just an average, and it can range from -1 to 1.\n",
    "plt.hist(listt)\n",
    "plt.xlabel(\"sentiment values of descriptions\")\n",
    "plt.ylabel(\"count\")\n",
    "plt.title(\"histogram of sentiment values of descriptions\")"
   ]
  },
  {
   "cell_type": "code",
   "execution_count": 9,
   "id": "3513b70f",
   "metadata": {
    "execution": {
     "iopub.execute_input": "2024-06-13T18:13:27.434271Z",
     "iopub.status.busy": "2024-06-13T18:13:27.433419Z",
     "iopub.status.idle": "2024-06-13T18:13:27.574845Z",
     "shell.execute_reply": "2024-06-13T18:13:27.573514Z"
    },
    "papermill": {
     "duration": 0.150624,
     "end_time": "2024-06-13T18:13:27.577729",
     "exception": false,
     "start_time": "2024-06-13T18:13:27.427105",
     "status": "completed"
    },
    "tags": []
   },
   "outputs": [
    {
     "data": {
      "image/png": "[encoded data removed]",
      "text/plain": [
       "<Figure size 640x480 with 1 Axes>"
      ]
     },
     "metadata": {},
     "output_type": "display_data"
    }
   ],
   "source": [
    "from nltk.draw.dispersion import dispersion_plot\n",
    "import matplotlib.pyplot as plt\n",
    "\n",
    "from nltk.text import Text\n",
    "wordlist = Text(description[0].split(\" \"))\n",
    "\n",
    "targets=['like','favourite','game']\n",
    "plt.xlim(0, len(wordlist))\n",
    "plt.yticks([0,1,2], reversed(targets), color=\"C0\") #make the labels correct\n",
    "dispersion_plot(wordlist, targets, ignore_case=True, title='Lexical Dispersion Plot')"
   ]
  }
 ],
 "metadata": {
  "kaggle": {
   "accelerator": "none",
   "dataSources": [
    {
     "datasetId": 1340369,
     "sourceId": 2233682,
     "sourceType": "datasetVersion"
    }
   ],
   "dockerImageVersionId": 30732,
   "isGpuEnabled": false,
   "isInternetEnabled": false,
   "language": "python",
   "sourceType": "notebook"
  },
  "kernelspec": {
   "display_name": "Python 3",
   "language": "python",
   "name": "python3"
  },
  "language_info": {
   "codemirror_mode": {
    "name": "ipython",
    "version": 3
   },
   "file_extension": ".py",
   "mimetype": "text/x-python",
   "name": "python",
   "nbconvert_exporter": "python",
   "pygments_lexer": "ipython3",
   "version": "3.10.13"
  },
  "papermill": {
   "default_parameters": {},
   "duration": 45.84386,
   "end_time": "2024-06-13T18:13:28.707046",
   "environment_variables": {},
   "exception": null,
   "input_path": "__notebook__.ipynb",
   "output_path": "__notebook__.ipynb",
   "parameters": {},
   "start_time": "2024-06-13T18:12:42.863186",
   "version": "2.5.0"
  }
 },
 "nbformat": 4,
 "nbformat_minor": 5
}
